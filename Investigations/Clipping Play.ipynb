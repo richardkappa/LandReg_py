{
 "cells": [
  {
   "cell_type": "code",
   "execution_count": 1,
   "id": "3e275513",
   "metadata": {},
   "outputs": [],
   "source": [
    "import pandas as pd\n",
    "import geopandas as gpd\n",
    "import pickle\n",
    "from shapely.geometry import Polygon\n",
    "import time\n",
    "\n",
    "%matplotlib inline\n",
    "import matplotlib.pyplot as plt\n",
    "\n",
    "root_path = \"D:/GeoData/\"\n",
    "Main_CRS = \"EPSG:27700\""
   ]
  },
  {
   "cell_type": "code",
   "execution_count": 2,
   "id": "cb7a34df",
   "metadata": {},
   "outputs": [],
   "source": [
    "#Function for opening saved data\n",
    "def load_obj(name ):\n",
    "    with open(root_path + 'WorkingData/' + name + '.pkl', 'rb') as f:\n",
    "        return pickle.load(f)"
   ]
  },
  {
   "cell_type": "code",
   "execution_count": 3,
   "id": "ce04860e",
   "metadata": {},
   "outputs": [],
   "source": [
    "All_Maps = load_obj(\"All_Maps\")"
   ]
  },
  {
   "cell_type": "markdown",
   "id": "6cff3105",
   "metadata": {},
   "source": [
    "Clipping functions"
   ]
  },
  {
   "cell_type": "code",
   "execution_count": 4,
   "id": "d3a18736",
   "metadata": {},
   "outputs": [],
   "source": [
    "def MakePolygon(centre, sq_sz, inp_crs):\n",
    "    mnx = centre[0]-(sq_sz/2)\n",
    "    mny = centre[1]-(sq_sz/2)\n",
    "    mxx = centre[0]+(sq_sz/2)\n",
    "    mxy = centre[1]+(sq_sz/2)\n",
    "    polygon =Polygon([(mnx, mny), (mnx,mxy), (mxx,mxy), (mxx,mny), (mnx, mny)])\n",
    "    poly_gdf = gpd.GeoDataFrame([1], geometry=[polygon], crs=inp_crs)\n",
    "    return poly_gdf"
   ]
  },
  {
   "cell_type": "code",
   "execution_count": 10,
   "id": "610fd8fc",
   "metadata": {},
   "outputs": [],
   "source": [
    "def clip_map(source_gdf, clip_gdf, geometry = 'geometry'):\n",
    "    #extract the geometry of the area you want to clip to\n",
    "    clip_geom = clip_gdf[geometry].iloc[0]\n",
    "\n",
    "    #use an r-tree to find the intersection\n",
    "    spatial_index = source_gdf.sindex\n",
    "    possible_matches_index  = list(spatial_index.intersection(clip_geom.bounds))\n",
    "    possible_matches = source_gdf.iloc[possible_matches_index]\n",
    "    precise_matches = possible_matches[possible_matches.intersects(clip_geom)]\n",
    "    clipped = gpd.clip(source_gdf, clip_gdf)\n",
    "    return clipped"
   ]
  },
  {
   "cell_type": "code",
   "execution_count": 6,
   "id": "a05bd3cb",
   "metadata": {},
   "outputs": [],
   "source": [
    "Clip_poly = MakePolygon([535493, 171250], 5000, Main_CRS)"
   ]
  },
  {
   "cell_type": "code",
   "execution_count": 8,
   "id": "b762bd8d",
   "metadata": {},
   "outputs": [],
   "source": [
    "#Original Method\n",
    "start = time.time()\n",
    "\n",
    "maps = dict((k, gpd.clip(v, Clip_poly)) for k, v in All_Maps.items())\n",
    "\n",
    "end = time.time()\n",
    "clip_method_time = end - start"
   ]
  },
  {
   "cell_type": "code",
   "execution_count": 11,
   "id": "bddec2b4",
   "metadata": {},
   "outputs": [],
   "source": [
    "#New Method\n",
    "start = time.time()\n",
    "\n",
    "maps = dict((k, clip_map(v, Clip_poly)) for k, v in All_Maps.items())\n",
    "\n",
    "end = time.time()\n",
    "r_tree_method_time = end - start"
   ]
  },
  {
   "cell_type": "code",
   "execution_count": 12,
   "id": "d39571b1",
   "metadata": {},
   "outputs": [
    {
     "name": "stdout",
     "output_type": "stream",
     "text": [
      "Old time is 909.1514949798584 New time is 1413.0587012767792\n"
     ]
    }
   ],
   "source": [
    "print(\"Old time is\", clip_method_time, \"New time is\", r_tree_method_time)"
   ]
  },
  {
   "cell_type": "code",
   "execution_count": null,
   "id": "16f9ff78",
   "metadata": {},
   "outputs": [],
   "source": []
  }
 ],
 "metadata": {
  "kernelspec": {
   "display_name": "Python 3 (ipykernel)",
   "language": "python",
   "name": "python3"
  },
  "language_info": {
   "codemirror_mode": {
    "name": "ipython",
    "version": 3
   },
   "file_extension": ".py",
   "mimetype": "text/x-python",
   "name": "python",
   "nbconvert_exporter": "python",
   "pygments_lexer": "ipython3",
   "version": "3.9.7"
  }
 },
 "nbformat": 4,
 "nbformat_minor": 5
}
