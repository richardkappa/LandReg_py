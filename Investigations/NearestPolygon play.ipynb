{
 "cells": [
  {
   "cell_type": "code",
   "execution_count": 308,
   "id": "9bfc417e",
   "metadata": {},
   "outputs": [],
   "source": [
    "import geopandas as gpd\n",
    "import pickle\n",
    "from sklearn.neighbors import BallTree\n",
    "import numpy as np\n",
    "from shapely.geometry import LineString\n",
    "%matplotlib inline\n",
    "import matplotlib.pyplot as plt\n",
    "from itertools import compress\n",
    "import pandas as pd\n",
    "\n",
    "root_path = \"D:/GeoData/\"\n",
    "Main_CRS = \"EPSG:27700\""
   ]
  },
  {
   "cell_type": "code",
   "execution_count": 2,
   "id": "b5312291",
   "metadata": {},
   "outputs": [],
   "source": [
    "def load_obj(name ):\n",
    "    with open(root_path + 'WorkingData/' + name + '.pkl', 'rb') as f:\n",
    "        return pickle.load(f)"
   ]
  },
  {
   "cell_type": "code",
   "execution_count": 3,
   "id": "0edf2831",
   "metadata": {},
   "outputs": [],
   "source": [
    "def save_obj(name , obj, extra=\"\"):\n",
    "    with open(root_path + 'WorkingData/' + extra + name + '.pkl', 'wb+') as f:\n",
    "        pickle.dump(obj, f, pickle.HIGHEST_PROTOCOL)"
   ]
  },
  {
   "cell_type": "code",
   "execution_count": null,
   "id": "32a4c8e9",
   "metadata": {},
   "outputs": [],
   "source": [
    "#Import map of Euston for tests\n",
    "whichmap = \"Milford Haven\"\n",
    "\n",
    "Mapset = load_obj(\"Clipped5k_\"+whichmap)\n",
    "\n",
    "Mapset = load_obj(\"All_Maps\")"
   ]
  },
  {
   "cell_type": "code",
   "execution_count": null,
   "id": "d92e21dd",
   "metadata": {},
   "outputs": [],
   "source": [
    "def distance(src_points, candidates, source_name, out_name, keep_d_n=[True,True]):\n",
    "    \n",
    "    dist_name = \"Distance_To_Nearest_\" + out_name + \"(m)\"\n",
    "    name_name = \"Name_of_Nearest_\" + out_name\n",
    "    \n",
    "    candidates = candidates.reset_index(drop=True)\n",
    "    \n",
    "    dist_df = src_points.geometry.apply(lambda g: candidates.distance(g))\n",
    "    min_distance = list(dist_df.min(axis=1).round(0))\n",
    "    min_name = list(candidates[source_name].iloc[dist_df.idxmin(axis=1)])\n",
    "    \n",
    "    df = pd.DataFrame(list(zip(min_distance, min_name)),\n",
    "                      columns =[dist_name, name_name],\n",
    "                     index =src_points.index)\n",
    "    \n",
    "    return df"
   ]
  },
  {
   "cell_type": "code",
   "execution_count": null,
   "id": "015f69e2",
   "metadata": {},
   "outputs": [],
   "source": [
    "Mapset['NSPL_gdf'].join(distance(Mapset['NSPL_gdf'], Mapset[\"A_Roads\"], \"roadNumber\", \"A_Road\"))"
   ]
  },
  {
   "cell_type": "code",
   "execution_count": null,
   "id": "320b3442",
   "metadata": {},
   "outputs": [],
   "source": []
  }
 ],
 "metadata": {
  "kernelspec": {
   "display_name": "Python 3 (ipykernel)",
   "language": "python",
   "name": "python3"
  },
  "language_info": {
   "codemirror_mode": {
    "name": "ipython",
    "version": 3
   },
   "file_extension": ".py",
   "mimetype": "text/x-python",
   "name": "python",
   "nbconvert_exporter": "python",
   "pygments_lexer": "ipython3",
   "version": "3.9.7"
  }
 },
 "nbformat": 4,
 "nbformat_minor": 5
}
