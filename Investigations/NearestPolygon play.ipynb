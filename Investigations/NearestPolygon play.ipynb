{
 "cells": [
  {
   "cell_type": "code",
   "execution_count": 1,
   "id": "55730e0a",
   "metadata": {},
   "outputs": [],
   "source": [
    "import geopandas as gpd\n",
    "import pickle\n",
    "from sklearn.neighbors import BallTree\n",
    "import numpy as np\n",
    "from shapely.geometry import LineString\n",
    "%matplotlib inline\n",
    "import matplotlib.pyplot as plt\n",
    "from itertools import compress\n",
    "import pandas as pd\n",
    "\n",
    "root_path = \"D:/GeoData/\"\n",
    "Main_CRS = \"EPSG:27700\""
   ]
  },
  {
   "cell_type": "code",
   "execution_count": 2,
   "id": "f06a185d",
   "metadata": {},
   "outputs": [],
   "source": [
    "def load_obj(name ):\n",
    "    with open(root_path + 'WorkingData/' + name + '.pkl', 'rb') as f:\n",
    "        return pickle.load(f)"
   ]
  },
  {
   "cell_type": "code",
   "execution_count": 3,
   "id": "62c32eed",
   "metadata": {},
   "outputs": [],
   "source": [
    "def save_obj(name , obj, extra=\"\"):\n",
    "    with open(root_path + 'WorkingData/' + extra + name + '.pkl', 'wb+') as f:\n",
    "        pickle.dump(obj, f, pickle.HIGHEST_PROTOCOL)"
   ]
  },
  {
   "cell_type": "code",
   "execution_count": 4,
   "id": "b781cbc0",
   "metadata": {},
   "outputs": [],
   "source": [
    "def distance(src_points, candidates, source_name, out_name, keep_d_n_g=[True,True]):\n",
    "    \n",
    "    dist_name = \"Distance_To_Nearest_\" + out_name + \"(m)\"\n",
    "    name_name = \"Name_of_Nearest_\" + out_name\n",
    "    geom_name = \"Geometry_of_Nearest_\" + out_name\n",
    "    \n",
    "    candidates = candidates.reset_index(drop=True)\n",
    "    \n",
    "    dist_df = src_points.geometry.apply(lambda g: candidates.distance(g))\n",
    "    min_distance = list(dist_df.min(axis=1).round(0))\n",
    "    min_name = list(candidates[source_name].iloc[dist_df.idxmin(axis=1)])\n",
    "    min_geom = list(candidates[\"geometry\"].iloc[dist_df.idxmin(axis=1)])\n",
    "    \n",
    "    df = pd.DataFrame(list(zip(min_distance, min_name, min_geom)),\n",
    "                      columns =[dist_name, name_name, geom_name],\n",
    "                      index =src_points.index)\n",
    "    \n",
    "    return df"
   ]
  },
  {
   "cell_type": "code",
   "execution_count": 5,
   "id": "9a859493",
   "metadata": {},
   "outputs": [],
   "source": [
    "def get_nearest_point(src_points, #Source gdf, the gdf with the points you want to attach distances to\n",
    "                      candidates, #gdf containing the list of points you want to get the distances to\n",
    "                      k_neighbors=1 #Return just the closest point\n",
    "                     ):\n",
    "    \"\"\"Find nearest neighbors for all source points from a set of candidate points\"\"\"\n",
    "\n",
    "    # Create tree from the candidate points\n",
    "     # removed metric since the default is euclidian (what my coordinates use)\n",
    "    tree = BallTree(candidates, leaf_size=15)\n",
    "\n",
    "    # Find closest points and distances\n",
    "    distances, indices = tree.query(src_points, k=k_neighbors)\n",
    "\n",
    "    # Transpose to get distances and indices into arrays\n",
    "    distances = distances.transpose()\n",
    "    indices = indices.transpose()\n",
    "\n",
    "    # Get closest indices and distances (i.e. array at index 0)\n",
    "    # note: for the second closest points, you would take index 1, etc.\n",
    "    closest = indices[0]\n",
    "    closest_dist = distances[0]\n",
    "\n",
    "    # Return indices and distances\n",
    "    return (closest, closest_dist)"
   ]
  },
  {
   "cell_type": "code",
   "execution_count": 6,
   "id": "393f00ca",
   "metadata": {},
   "outputs": [],
   "source": [
    "def nearest_neighbor_point(left_gdf, #source data\n",
    "                         right_gdf, #points data\n",
    "                         right_col_name, #in the points data, what column contains the name of the points\n",
    "                         outname, #in the output data what do you want to refer to the points as\n",
    "                         keep_n_g_d = [True, True, True], #do you want to keep the geometry, point name and distance\n",
    "                         merge=False #Make a new output or merge onto left_gdf\n",
    "                        ):\n",
    "    \"\"\"\n",
    "    For each point in left_gdf, find closest point in right GeoDataFrame and return them.\n",
    "    \"\"\"\n",
    "    \n",
    "    suffix = \"Nearest_\" + outname\n",
    "        \n",
    "    if len(right_gdf)>0:\n",
    "\n",
    "        # Ensure that index in right gdf is formed of sequential numbers\n",
    "        left = left_gdf.copy().reset_index(drop=False)\n",
    "        right = right_gdf.copy().reset_index(drop=True)\n",
    "        \n",
    "        left_geom_col = left.geometry.name\n",
    "        right_geom_col = right.geometry.name\n",
    "        \n",
    "        #Some of the data frames will have empty geometries so this will drop them\n",
    "        left = left[~(left.is_empty)]\n",
    "        right = right[~(right.is_empty)]\n",
    "        \n",
    "        left = left.copy().reset_index(drop=False)\n",
    "        right = right.copy().reset_index(drop=False)\n",
    "\n",
    "        left_points = np.array(left[left_geom_col].apply(lambda geom: (geom.x, geom.y)).to_list())\n",
    "        right_points = np.array(right[right_geom_col].apply(lambda geom: (geom.x, geom.y)).to_list())\n",
    "\n",
    "        # Find the nearest points\n",
    "        # -----------------------\n",
    "        # closest ==> index in right_gdf that corresponds to the closest point\n",
    "        # dist ==> distance between the nearest neighbors (in meters)\n",
    "\n",
    "        closest, dist = get_nearest_point(src_points=left_points, candidates=right_points)\n",
    "\n",
    "        # Return points from right GeoDataFrame that are closest to points in left GeoDataFrame\n",
    "        closest_points = right.loc[closest]\n",
    "\n",
    "        # Ensure that the index corresponds the one in left_gdf\n",
    "        left_index = left['index']\n",
    "        closest_points = closest_points.reset_index(drop=True)\n",
    "        closest_points = closest_points.set_index(left_index)\n",
    "\n",
    "        #Select the columns to keep in the output dataframe\n",
    "        keep = [right_col_name, 'geometry']  \n",
    "        closest_points = closest_points[keep]\n",
    "\n",
    "        #Rename the columns to keep\n",
    "        closest_points = closest_points.rename(columns={right_col_name: suffix + '_name'})\n",
    "        closest_points = closest_points.rename(columns={'geometry': suffix + '_geometry'})\n",
    "        closest_points[suffix + '_Distance'] = dist\n",
    "\n",
    "        closest_points = closest_points.loc[:,keep_n_g_d]\n",
    "\n",
    "    else:\n",
    "        closest_points = left_gdf.iloc[:,0:1].copy()\n",
    "        closest_points[suffix + '_name'] = \"\"\n",
    "        closest_points[suffix + '_geometry'] = \"\"\n",
    "        closest_points = closest_points.loc[:,[suffix + '_name',suffix + '_geometry']]\n",
    "        closest_points[suffix + '_Distance'] = np.nan\n",
    "        closest_points = closest_points.loc[:,keep_n_g_d]\n",
    "        \n",
    "        \n",
    "    # either add the columns to left_gdf or make a new dataframe\n",
    "    if merge:\n",
    "        out = left_gdf.join(closest_points)\n",
    "    else:\n",
    "        out = closest_points\n",
    "    return out"
   ]
  },
  {
   "cell_type": "markdown",
   "id": "a63cab91",
   "metadata": {},
   "source": [
    "Set the data up on a small set of maps and see which method is quicker"
   ]
  },
  {
   "cell_type": "code",
   "execution_count": 7,
   "id": "ae45bdc5",
   "metadata": {},
   "outputs": [],
   "source": [
    "whichmap = \"Milford Haven\"\n",
    "Mapset = load_obj(\"Clipped5k_\"+whichmap)\n",
    "\n",
    "left = Mapset['NSPL_gdf']\n",
    "right = Mapset['RailwayStations']\n",
    "oldName = \"StationName\"\n",
    "newName = \"TrainStation\""
   ]
  },
  {
   "cell_type": "code",
   "execution_count": 8,
   "id": "27ef784f",
   "metadata": {},
   "outputs": [
    {
     "name": "stdout",
     "output_type": "stream",
     "text": [
      "19.6 ms ± 225 µs per loop (mean ± std. dev. of 7 runs, 100 loops each)\n"
     ]
    }
   ],
   "source": [
    "%%timeit -n 100\n",
    "test = nearest_neighbor_point(left, right, oldName, newName)"
   ]
  },
  {
   "cell_type": "code",
   "execution_count": 9,
   "id": "2a767c13",
   "metadata": {},
   "outputs": [
    {
     "name": "stdout",
     "output_type": "stream",
     "text": [
      "39.1 ms ± 230 µs per loop (mean ± std. dev. of 7 runs, 100 loops each)\n"
     ]
    }
   ],
   "source": [
    "%%timeit -n 100\n",
    "test = left.join(distance(left, right, oldName, newName))"
   ]
  },
  {
   "cell_type": "markdown",
   "id": "2190f393",
   "metadata": {},
   "source": [
    "Now try on a big dataset (all UK postcodes)"
   ]
  },
  {
   "cell_type": "code",
   "execution_count": 10,
   "id": "86602a5b",
   "metadata": {},
   "outputs": [],
   "source": [
    "All_Maps = load_obj(\"All_Maps\")\n",
    "\n",
    "left = All_Maps['NSPL_gdf']\n",
    "right = All_Maps['RailwayStations']\n",
    "oldName = \"StationName\"\n",
    "newName = \"TrainStation\""
   ]
  },
  {
   "cell_type": "code",
   "execution_count": 11,
   "id": "2336926d",
   "metadata": {},
   "outputs": [
    {
     "name": "stdout",
     "output_type": "stream",
     "text": [
      "59.5 s ± 1.44 s per loop (mean ± std. dev. of 7 runs, 1 loop each)\n"
     ]
    }
   ],
   "source": [
    "%%timeit\n",
    "test = nearest_neighbor_point(left, right, oldName, newName)"
   ]
  },
  {
   "cell_type": "code",
   "execution_count": null,
   "id": "ec1f6a3f",
   "metadata": {},
   "outputs": [],
   "source": [
    "%%timeit\n",
    "test = left.join(distance(left, right, oldName, newName))"
   ]
  },
  {
   "cell_type": "code",
   "execution_count": null,
   "id": "70c658ad",
   "metadata": {},
   "outputs": [],
   "source": []
  },
  {
   "cell_type": "code",
   "execution_count": null,
   "id": "686b217c",
   "metadata": {},
   "outputs": [],
   "source": [
    "#add geom to the above output so i can make nice pics\n",
    "\n",
    "#second post on this\n",
    "#https://jakevdp.github.io/PythonDataScienceHandbook/01.07-timing-and-profiling.html"
   ]
  }
 ],
 "metadata": {
  "kernelspec": {
   "display_name": "Python 3 (ipykernel)",
   "language": "python",
   "name": "python3"
  },
  "language_info": {
   "codemirror_mode": {
    "name": "ipython",
    "version": 3
   },
   "file_extension": ".py",
   "mimetype": "text/x-python",
   "name": "python",
   "nbconvert_exporter": "python",
   "pygments_lexer": "ipython3",
   "version": "3.9.7"
  }
 },
 "nbformat": 4,
 "nbformat_minor": 5
}
