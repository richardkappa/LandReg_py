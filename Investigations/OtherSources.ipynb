{
 "cells": [
  {
   "cell_type": "code",
   "execution_count": 4,
   "id": "a1789d55",
   "metadata": {},
   "outputs": [],
   "source": [
    "import pandas as pd\n",
    "import numpy as np\n",
    "import os\n",
    "import pickle"
   ]
  },
  {
   "cell_type": "code",
   "execution_count": 5,
   "id": "be84ea69",
   "metadata": {},
   "outputs": [],
   "source": [
    "root_path = \"D:/GeoData/\"\n",
    "Main_CRS = \"EPSG:27700\""
   ]
  },
  {
   "cell_type": "code",
   "execution_count": 11,
   "id": "9d9b3746",
   "metadata": {},
   "outputs": [],
   "source": [
    "Road_Accidents_names_kp = ['accident_year', 'accident_reference', 'location_easting_osgr', 'location_northing_osgr', 'police_force', 'accident_severity', 'number_of_vehicles', 'number_of_casualties', 'date', 'day_of_week', 'time']\n",
    "\n",
    "Road_Accidents = pd.read_csv(root_path + \"RoadSafety/dft-road-casualty-statistics-accident-2020.csv\", usecols=Road_Accidents_names_kp, low_memory=False) "
   ]
  },
  {
   "cell_type": "code",
   "execution_count": 13,
   "id": "6e64981b",
   "metadata": {},
   "outputs": [
    {
     "data": {
      "text/plain": [
       "accident_year               int64\n",
       "accident_reference         object\n",
       "location_easting_osgr     float64\n",
       "location_northing_osgr    float64\n",
       "police_force                int64\n",
       "accident_severity           int64\n",
       "number_of_vehicles          int64\n",
       "number_of_casualties        int64\n",
       "date                       object\n",
       "day_of_week                 int64\n",
       "time                       object\n",
       "dtype: object"
      ]
     },
     "execution_count": 13,
     "metadata": {},
     "output_type": "execute_result"
    }
   ],
   "source": [
    "Road_Accidents.dtypes"
   ]
  },
  {
   "cell_type": "code",
   "execution_count": null,
   "id": "92f97284",
   "metadata": {},
   "outputs": [],
   "source": []
  }
 ],
 "metadata": {
  "kernelspec": {
   "display_name": "Python 3 (ipykernel)",
   "language": "python",
   "name": "python3"
  },
  "language_info": {
   "codemirror_mode": {
    "name": "ipython",
    "version": 3
   },
   "file_extension": ".py",
   "mimetype": "text/x-python",
   "name": "python",
   "nbconvert_exporter": "python",
   "pygments_lexer": "ipython3",
   "version": "3.9.7"
  }
 },
 "nbformat": 4,
 "nbformat_minor": 5
}
