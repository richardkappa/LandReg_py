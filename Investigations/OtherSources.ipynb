{
 "cells": [
  {
   "cell_type": "code",
   "execution_count": 6,
   "id": "6cb54a27",
   "metadata": {},
   "outputs": [],
   "source": [
    "import pandas as pd\n",
    "import numpy as np\n",
    "import os\n",
    "import geopandas as gpd\n",
    "\n",
    "root_path = \"D:/GeoData/\"\n",
    "Main_CRS = \"EPSG:27700\""
   ]
  },
  {
   "cell_type": "code",
   "execution_count": 24,
   "id": "349006fe",
   "metadata": {},
   "outputs": [],
   "source": [
    "np_rail_names_kp = ['TiplocCode', 'CrsCode', 'StationName', 'Easting', 'Northing']\n",
    "np_ferry_names_kp = ['FerryCode', 'Name', 'Easting', 'Northing']\n",
    "np_bus_names_kp = ['CommonName', 'Easting', 'Northing']\n",
    "\n",
    "RailwayStations = pd.read_csv(root_path + \"NaPTANcsv/RailReferences.csv\", usecols=np_rail_names) \n",
    "FerryTerminals = pd.read_csv(root_path + \"NaPTANcsv/FerryReferences.csv\", usecols=np_ferry_names_kp) \n",
    "BusStops = pd.read_csv(root_path + \"NaPTANcsv/Stops.csv\", usecols=np_bus_names_kp, encoding = \"ISO-8859-1\") "
   ]
  },
  {
   "cell_type": "code",
   "execution_count": 26,
   "id": "2c0f90ba",
   "metadata": {},
   "outputs": [],
   "source": []
  },
  {
   "cell_type": "code",
   "execution_count": 18,
   "id": "a7f9a6fa",
   "metadata": {},
   "outputs": [],
   "source": [
    "Railway_Points = gpd.GeoDataFrame(RailwayStations, geometry=gpd.points_from_xy(RailwayStations.Easting, RailwayStations.Northing), crs=Main_CRS)\n"
   ]
  },
  {
   "cell_type": "code",
   "execution_count": 27,
   "id": "66167022",
   "metadata": {},
   "outputs": [
    {
     "data": {
      "text/plain": [
       "[         AtcoCode TiplocCode CrsCode                      StationName  \\\n",
       " 0     9100PENZNCE    PENZNCE     PNZ            Penzance Rail Station   \n",
       " 1      9100STIVES     STIVES     SIV  St Ives (Cornwall) Rail Station   \n",
       " 2     9100CARBISB    CARBISB     CBB          Carbis Bay Rail Station   \n",
       " 3      9100STERTH     STERTH     SER             St Erth Rail Station   \n",
       " 4     9100LELANTS    LELANTS     LTS     Lelant Saltings Rail Station   \n",
       " ...           ...        ...     ...                              ...   \n",
       " 2628  9100SMRLYTN    SMRLYTN     SYT         Somerleyton Rail Station   \n",
       " 2629  9100OULTNBS    OULTNBS     OUS  Oulton Broad South Rail Station   \n",
       " 2630   9100YARMTH     YARMTH     GYM      Great Yarmouth Rail Station   \n",
       " 2631  9100OULTNBN    OULTNBN     OUN  Oulton Broad North Rail Station   \n",
       " 2632  9100LOWSTFT    LOWSTFT     LWT           Lowestoft Rail Station   \n",
       " \n",
       "      StationNameLang GridType  Easting  Northing     CreationDateTime  \\\n",
       " 0                NaN        U   147588     30599  2003-11-04T00:00:00   \n",
       " 1                NaN        U   151947     40127  2005-04-04T00:00:00   \n",
       " 2                NaN        U   152930     38745  2003-11-04T00:00:00   \n",
       " 3                NaN        U   154150     35730  2003-11-04T00:00:00   \n",
       " 4                NaN        U   154430     36640  2003-11-04T00:00:00   \n",
       " ...              ...      ...      ...       ...                  ...   \n",
       " 2628             NaN        U   647930    296530  2003-11-04T00:00:00   \n",
       " 2629             NaN        U   651920    292205  2005-04-04T00:00:00   \n",
       " 2630             NaN        U   652000    308100  2003-11-04T00:00:00   \n",
       " 2631             NaN        U   652420    293140  2005-03-17T00:00:00   \n",
       " 2632             NaN        U   654747    292890  2003-11-04T00:00:00   \n",
       " \n",
       "      ModificationDateTime  RevisionNumber Modification  \n",
       " 0     2011-09-30T14:47:28               2          rev  \n",
       " 1     2011-09-30T14:47:28               4          rev  \n",
       " 2     2011-09-30T14:47:28               5          rev  \n",
       " 3     2007-02-13T17:06:21               3          rev  \n",
       " 4     2011-09-30T14:47:28               2          rev  \n",
       " ...                   ...             ...          ...  \n",
       " 2628  2006-09-18T18:24:34               1          rev  \n",
       " 2629  2011-08-22T17:03:04               4          rev  \n",
       " 2630  2007-02-13T17:06:21               4          rev  \n",
       " 2631  2007-02-13T17:06:21               3          rev  \n",
       " 2632  2007-02-13T17:06:21               4          rev  \n",
       " \n",
       " [2633 rows x 12 columns],\n",
       "     FerryCode                            Name  Easting  Northing\n",
       " 0         CBA  Castlebay Barra Ferry Terminal    66484    798144\n",
       " 1         CBA  Castlebay Barra Ferry Terminal    66488    798129\n",
       " 2         KSM    Kisimul Castle Ferry Landing    66545    797964\n",
       " 3         CSL       Castle Slip Ferry Landing    66605    798146\n",
       " 4         AHB  Aird Mhor Barra Ferry Terminal    72123    803817\n",
       " ..        ...                             ...      ...       ...\n",
       " 491       RMG         Ramsgate Ferry Terminal   637950    164215\n",
       " 492       RDM             Reedham Ferry North   640747    301507\n",
       " 493       RHM             Reedham Ferry South   640782    301437\n",
       " 494       WLB       Walberswick Ferry Landing   650068    274970\n",
       " 495       SWO         Southwold Ferry Landing   650080    275060\n",
       " \n",
       " [496 rows x 4 columns],\n",
       "     FerryCode                            Name  Easting  Northing\n",
       " 0         CBA  Castlebay Barra Ferry Terminal    66484    798144\n",
       " 1         CBA  Castlebay Barra Ferry Terminal    66488    798129\n",
       " 2         KSM    Kisimul Castle Ferry Landing    66545    797964\n",
       " 3         CSL       Castle Slip Ferry Landing    66605    798146\n",
       " 4         AHB  Aird Mhor Barra Ferry Terminal    72123    803817\n",
       " ..        ...                             ...      ...       ...\n",
       " 491       RMG         Ramsgate Ferry Terminal   637950    164215\n",
       " 492       RDM             Reedham Ferry North   640747    301507\n",
       " 493       RHM             Reedham Ferry South   640782    301437\n",
       " 494       WLB       Walberswick Ferry Landing   650068    274970\n",
       " 495       SWO         Southwold Ferry Landing   650080    275060\n",
       " \n",
       " [496 rows x 4 columns]]"
      ]
     },
     "execution_count": 27,
     "metadata": {},
     "output_type": "execute_result"
    }
   ],
   "source": [
    "Naptan"
   ]
  },
  {
   "cell_type": "code",
   "execution_count": null,
   "id": "1d85c5f0",
   "metadata": {},
   "outputs": [],
   "source": []
  }
 ],
 "metadata": {
  "kernelspec": {
   "display_name": "Python 3 (ipykernel)",
   "language": "python",
   "name": "python3"
  },
  "language_info": {
   "codemirror_mode": {
    "name": "ipython",
    "version": 3
   },
   "file_extension": ".py",
   "mimetype": "text/x-python",
   "name": "python",
   "nbconvert_exporter": "python",
   "pygments_lexer": "ipython3",
   "version": "3.9.7"
  }
 },
 "nbformat": 4,
 "nbformat_minor": 5
}
