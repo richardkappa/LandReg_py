{
 "cells": [
  {
   "cell_type": "code",
   "execution_count": 1,
   "id": "43f99a3f",
   "metadata": {},
   "outputs": [],
   "source": [
    "import pandas as pd\n",
    "import geopandas as gpd\n",
    "import pickle\n",
    "\n",
    "%matplotlib inline\n",
    "import matplotlib.pyplot as plt\n",
    "\n",
    "root_path = \"D:/GeoData/\"\n",
    "Main_CRS = \"EPSG:27700\""
   ]
  },
  {
   "cell_type": "code",
   "execution_count": 2,
   "id": "eb5e0e76",
   "metadata": {},
   "outputs": [],
   "source": [
    "#Function for opening saved data\n",
    "def load_obj(name ):\n",
    "    with open(root_path + 'WorkingData/' + name + '.pkl', 'rb') as f:\n",
    "        return pickle.load(f)"
   ]
  },
  {
   "cell_type": "code",
   "execution_count": 3,
   "id": "72c500b5",
   "metadata": {},
   "outputs": [
    {
     "data": {
      "text/plain": [
       "dict_keys(['Grasmere', 'South_London', 'Loch_Lomond', 'Furness', 'Croydon', 'StPauls', 'M25', 'M4_junct', 'M6_Junctions', 'Kendal', 'Milford Haven', 'Birmingham', 'Euston', 'Southampton', 'Windermere'])"
      ]
     },
     "execution_count": 3,
     "metadata": {},
     "output_type": "execute_result"
    }
   ],
   "source": [
    "#Import all 5km clipped maps\n",
    "ClippedMaps_5k = load_obj(\"ClippedMaps_5k\")\n",
    "\n",
    "ClippedMaps_5k.keys()"
   ]
  },
  {
   "cell_type": "code",
   "execution_count": null,
   "id": "e116e4bb",
   "metadata": {},
   "outputs": [],
   "source": []
  }
 ],
 "metadata": {
  "kernelspec": {
   "display_name": "Python 3 (ipykernel)",
   "language": "python",
   "name": "python3"
  },
  "language_info": {
   "codemirror_mode": {
    "name": "ipython",
    "version": 3
   },
   "file_extension": ".py",
   "mimetype": "text/x-python",
   "name": "python",
   "nbconvert_exporter": "python",
   "pygments_lexer": "ipython3",
   "version": "3.9.7"
  }
 },
 "nbformat": 4,
 "nbformat_minor": 5
}
