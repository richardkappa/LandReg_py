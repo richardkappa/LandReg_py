{
 "cells": [
  {
   "cell_type": "code",
   "execution_count": 1,
   "metadata": {},
   "outputs": [],
   "source": [
    "import pandas as pd\n",
    "import numpy as np\n",
    "import geopandas as gpd\n",
    "import os\n",
    "from shapely.geometry import Polygon\n",
    "import pickle"
   ]
  },
  {
   "cell_type": "markdown",
   "metadata": {},
   "source": [
    "Key meta data"
   ]
  },
  {
   "cell_type": "code",
   "execution_count": 2,
   "metadata": {},
   "outputs": [],
   "source": [
    "root_path = \"D:/GeoData/\"\n",
    "Main_CRS = \"EPSG:27700\""
   ]
  },
  {
   "cell_type": "markdown",
   "metadata": {},
   "source": [
    "Shapefiles"
   ]
  },
  {
   "cell_type": "code",
   "execution_count": 3,
   "metadata": {},
   "outputs": [],
   "source": [
    "Shape_Loc = {\n",
    "    'All_GB' : root_path + \"Countries__December_2019__Boundaries_UK_BFC-shp/Countries__December_2019__Boundaries_UK_BFC.shp\",\n",
    "    'National_Parks' : root_path + \"National_Parks__December_2019__GB_BFE-shp/National_Parks__December_2019__GB_BFE.shp\",\n",
    "    'LocalAuthorities' : root_path + \"Local_Authority_Districts__May_2020__Boundaries_UK_BFC-shp/Local_Authority_Districts__May_2020__Boundaries_UK_BFC.shp\",\n",
    "    'LSOA' : root_path + \"Lower_Layer_Super_Output_Area__December_2011__EW_BSC_V2-shp/Lower_Layer_Super_Output_Area__December_2011__EW_BSC_V2.shp\",\n",
    "    'GreenSpace' : root_path + \"opgrsp_essh_gb/OS Open Greenspace (ESRI Shape File) GB/data/GB_GreenspaceSite.shp\",\n",
    "    'Rivers' : root_path + \"oprvrs_essh_gb/data/WatercourseLink.shp\",\n",
    "    'Railway_Lines' : root_path + \"strtgi_essh_gb/data/railway_line.shp\",\n",
    "    'Woodland_Region' : root_path + \"strtgi_essh_gb/data/woodland_region.shp\",\n",
    "    'Urban_Region' : root_path + \"strtgi_essh_gb/data/urban_region.shp\",\n",
    "    'Foreshor_Region' : root_path + \"strtgi_essh_gb/data/foreshor_region.shp\",\n",
    "    'Ferry_Line' : root_path + \"strtgi_essh_gb/data/ferry_line.shp\",\n",
    "    'Coastline' : root_path + \"strtgi_essh_gb/data/coastline.shp\" ,\n",
    "    'Gridlines' : root_path + \"strtgi_essh_gb/data/gridlines.shp\",\n",
    "    'Lakes' : root_path + \"strtgi_essh_gb/data/lakes_region.shp\"}"
   ]
  },
  {
   "cell_type": "code",
   "execution_count": 4,
   "metadata": {},
   "outputs": [],
   "source": [
    "All_Maps = dict((k, gpd.read_file(v).to_crs(Main_CRS)) for k, v in Shape_Loc.items())"
   ]
  },
  {
   "cell_type": "code",
   "execution_count": 5,
   "metadata": {},
   "outputs": [],
   "source": [
    "file = os.listdir(\"D:\\GeoData\\oproad_essh_gb\\data\")\n",
    "\n",
    "path = [os.path.join(\"D:\\GeoData\\oproad_essh_gb\\data\", i) for i in file if \"RoadLink.shp\" in i]\n",
    "\n",
    "All_Maps['Road_Link'] = gpd.GeoDataFrame(pd.concat([gpd.read_file(i) for i in path], \n",
    "                        ignore_index=True), crs=Main_CRS)"
   ]
  },
  {
   "cell_type": "code",
   "execution_count": 6,
   "metadata": {},
   "outputs": [],
   "source": [
    "path = [os.path.join(\"D:\\GeoData\\oproad_essh_gb\\data\", i) for i in file if \"MotorwayJunction.shp\" in i]\n",
    "\n",
    "All_Maps['MotorwayJunctions'] = gpd.GeoDataFrame(pd.concat([gpd.read_file(i) for i in path], \n",
    "                        ignore_index=True), crs=Main_CRS)"
   ]
  },
  {
   "cell_type": "code",
   "execution_count": 7,
   "metadata": {},
   "outputs": [],
   "source": [
    "All_Maps['Motorway'] = All_Maps['Road_Link'][All_Maps['Road_Link']['class'] == \"Motorway\"]\n",
    "All_Maps['A_Roads'] = All_Maps['Road_Link'][All_Maps['Road_Link']['class'] == \"A Road\"]\n",
    "All_Maps['B_Roads'] = All_Maps['Road_Link'][All_Maps['Road_Link']['class'] == \"B Road\"]\n",
    "All_Maps['Other_roads'] = All_Maps['Road_Link'][~All_Maps['Road_Link'][\"class\"].isin([ \"Motorway\", \"A Road\", \"B Road\"])]\n",
    "\n",
    "#del All_Maps['Road_Link']"
   ]
  },
  {
   "cell_type": "markdown",
   "metadata": {},
   "source": [
    "NSPL Data\n",
    "\n",
    "* Extra complications here because GB is on the GB grid and NI is on the Irish grid. "
   ]
  },
  {
   "cell_type": "code",
   "execution_count": 8,
   "metadata": {},
   "outputs": [
    {
     "name": "stderr",
     "output_type": "stream",
     "text": [
      "C:\\Users\\richa\\Anaconda3\\envs\\LandReg_py\\lib\\site-packages\\geopandas\\array.py:275: ShapelyDeprecationWarning: The array interface is deprecated and will no longer work in Shapely 2.0. Convert the '.coords' to a numpy array instead.\n",
      "  return GeometryArray(vectorized.points_from_xy(x, y, z), crs=crs)\n",
      "C:\\Users\\richa\\Anaconda3\\envs\\LandReg_py\\lib\\site-packages\\geopandas\\array.py:275: ShapelyDeprecationWarning: The array interface is deprecated and will no longer work in Shapely 2.0. Convert the '.coords' to a numpy array instead.\n",
      "  return GeometryArray(vectorized.points_from_xy(x, y, z), crs=crs)\n"
     ]
    }
   ],
   "source": [
    "NSPL_Data = pd.read_pickle(root_path + 'WorkingData/' + 'NSPL_Data.pickle')\n",
    "\n",
    "#Split the data into NI and GB\n",
    "NI = NSPL_Data[NSPL_Data[\"Postcode_NS\"].str.slice(stop=2)==\"BT\"]\n",
    "GB = NSPL_Data[NSPL_Data[\"Postcode_NS\"].str.slice(stop=2)!=\"BT\"]\n",
    "\n",
    "#read the GB data using the GB national grid\n",
    "GB_gdf = gpd.GeoDataFrame(GB, geometry=gpd.points_from_xy(GB.oseast1m, GB.osnrth1m), crs=Main_CRS)\n",
    "\n",
    "#read the NI data using the Irish grid\n",
    "NI_gdf = gpd.GeoDataFrame(NI, geometry=gpd.points_from_xy(NI.oseast1m, NI.osnrth1m), crs=\"EPSG:29902\")\n",
    "\n",
    "#Change NI data to the Main_CRS\n",
    "NI_gdf = NI_gdf.to_crs(Main_CRS)\n",
    "\n",
    "#Re-combine now they are on the same coordinates\n",
    "All_Maps['NSPL_gdf'] = gpd.GeoDataFrame( pd.concat( [GB_gdf, NI_gdf], ignore_index=True) )\n",
    "\n",
    "del NSPL_Data, NI, GB, NI_gdf, GB_gdf"
   ]
  },
  {
   "cell_type": "markdown",
   "metadata": {},
   "source": [
    "Land Registry Data"
   ]
  },
  {
   "cell_type": "code",
   "execution_count": 9,
   "metadata": {},
   "outputs": [
    {
     "name": "stderr",
     "output_type": "stream",
     "text": [
      "C:\\Users\\richa\\Anaconda3\\envs\\LandReg_py\\lib\\site-packages\\geopandas\\array.py:275: ShapelyDeprecationWarning: The array interface is deprecated and will no longer work in Shapely 2.0. Convert the '.coords' to a numpy array instead.\n",
      "  return GeometryArray(vectorized.points_from_xy(x, y, z), crs=crs)\n"
     ]
    }
   ],
   "source": [
    "LandReg = pd.read_pickle(root_path + 'WorkingData/' + 'LandReg.pickle')\n",
    "All_Maps['LandReg_gdf'] = gpd.GeoDataFrame(LandReg, geometry=gpd.points_from_xy(LandReg.oseast1m, LandReg.osnrth1m), crs=Main_CRS)\n",
    "\n",
    "del LandReg"
   ]
  },
  {
   "cell_type": "markdown",
   "metadata": {},
   "source": [
    "NaPTAN Data"
   ]
  },
  {
   "cell_type": "code",
   "execution_count": 10,
   "metadata": {},
   "outputs": [
    {
     "name": "stderr",
     "output_type": "stream",
     "text": [
      "C:\\Users\\richa\\Anaconda3\\envs\\LandReg_py\\lib\\site-packages\\geopandas\\array.py:275: ShapelyDeprecationWarning: The array interface is deprecated and will no longer work in Shapely 2.0. Convert the '.coords' to a numpy array instead.\n",
      "  return GeometryArray(vectorized.points_from_xy(x, y, z), crs=crs)\n",
      "C:\\Users\\richa\\Anaconda3\\envs\\LandReg_py\\lib\\site-packages\\geopandas\\array.py:275: ShapelyDeprecationWarning: The array interface is deprecated and will no longer work in Shapely 2.0. Convert the '.coords' to a numpy array instead.\n",
      "  return GeometryArray(vectorized.points_from_xy(x, y, z), crs=crs)\n",
      "C:\\Users\\richa\\Anaconda3\\envs\\LandReg_py\\lib\\site-packages\\geopandas\\array.py:275: ShapelyDeprecationWarning: The array interface is deprecated and will no longer work in Shapely 2.0. Convert the '.coords' to a numpy array instead.\n",
      "  return GeometryArray(vectorized.points_from_xy(x, y, z), crs=crs)\n"
     ]
    }
   ],
   "source": [
    "RailwayStations = pd.read_pickle(root_path + 'WorkingData/' + 'RailwayStations_Data.pickle')\n",
    "FerryTerminals = pd.read_pickle(root_path + 'WorkingData/' + 'FerryTerminals_Data.pickle')\n",
    "BusStops = pd.read_pickle(root_path + 'WorkingData/' + 'BusStops_Data.pickle')\n",
    "\n",
    "All_Maps['RailwayStations'] = gpd.GeoDataFrame(RailwayStations, geometry=gpd.points_from_xy(RailwayStations.Easting, RailwayStations.Northing), crs=Main_CRS)\n",
    "All_Maps['FerryTerminals'] = gpd.GeoDataFrame(FerryTerminals, geometry=gpd.points_from_xy(FerryTerminals.Easting, FerryTerminals.Northing), crs=Main_CRS)\n",
    "All_Maps['BusStops'] = gpd.GeoDataFrame(BusStops, geometry=gpd.points_from_xy(BusStops.Easting, BusStops.Northing), crs=Main_CRS)"
   ]
  },
  {
   "cell_type": "markdown",
   "metadata": {},
   "source": [
    "Road Accidents"
   ]
  },
  {
   "cell_type": "code",
   "execution_count": 11,
   "metadata": {},
   "outputs": [
    {
     "name": "stderr",
     "output_type": "stream",
     "text": [
      "C:\\Users\\richa\\Anaconda3\\envs\\LandReg_py\\lib\\site-packages\\geopandas\\array.py:275: ShapelyDeprecationWarning: The array interface is deprecated and will no longer work in Shapely 2.0. Convert the '.coords' to a numpy array instead.\n",
      "  return GeometryArray(vectorized.points_from_xy(x, y, z), crs=crs)\n"
     ]
    }
   ],
   "source": [
    "Road_Accidents = pd.read_pickle(root_path + 'WorkingData/' + 'Road_Accidents_Data.pickle')\n",
    "\n",
    "All_Maps['Road_Accidents'] = gpd.GeoDataFrame(Road_Accidents, geometry=gpd.points_from_xy(Road_Accidents.location_easting_osgr, Road_Accidents.location_northing_osgr), crs=Main_CRS)"
   ]
  },
  {
   "cell_type": "markdown",
   "metadata": {},
   "source": [
    "Schools"
   ]
  },
  {
   "cell_type": "code",
   "execution_count": 12,
   "metadata": {},
   "outputs": [
    {
     "name": "stderr",
     "output_type": "stream",
     "text": [
      "C:\\Users\\richa\\Anaconda3\\envs\\LandReg_py\\lib\\site-packages\\geopandas\\array.py:275: ShapelyDeprecationWarning: The array interface is deprecated and will no longer work in Shapely 2.0. Convert the '.coords' to a numpy array instead.\n",
      "  return GeometryArray(vectorized.points_from_xy(x, y, z), crs=crs)\n"
     ]
    }
   ],
   "source": [
    "Schools = pd.read_pickle(root_path + 'WorkingData/' + 'Schools_Data.pickle')\n",
    "\n",
    "All_Maps['Schools'] = gpd.GeoDataFrame(Schools, geometry=gpd.points_from_xy(Schools.gridgb1e, Schools.gridgb1n), crs=Main_CRS)"
   ]
  },
  {
   "cell_type": "markdown",
   "metadata": {},
   "source": [
    "Fire Stations"
   ]
  },
  {
   "cell_type": "code",
   "execution_count": 13,
   "metadata": {},
   "outputs": [
    {
     "name": "stderr",
     "output_type": "stream",
     "text": [
      "C:\\Users\\richa\\Anaconda3\\envs\\LandReg_py\\lib\\site-packages\\geopandas\\array.py:275: ShapelyDeprecationWarning: The array interface is deprecated and will no longer work in Shapely 2.0. Convert the '.coords' to a numpy array instead.\n",
      "  return GeometryArray(vectorized.points_from_xy(x, y, z), crs=crs)\n"
     ]
    }
   ],
   "source": [
    "FireStations = pd.read_pickle(root_path + 'WorkingData/' + 'FireStations_Data.pickle')\n",
    "\n",
    "All_Maps['FireStations'] = gpd.GeoDataFrame(FireStations, geometry=gpd.points_from_xy(FireStations.STATION_EASTING, FireStations.STATION_NORTHING), crs=Main_CRS)"
   ]
  },
  {
   "cell_type": "markdown",
   "metadata": {},
   "source": [
    "UDPRNs"
   ]
  },
  {
   "cell_type": "code",
   "execution_count": null,
   "metadata": {},
   "outputs": [],
   "source": [
    "UDPRN = pd.read_pickle(root_path + 'WorkingData/' + 'NSUL_Data.pickle')\n",
    "UDPRN = UDPRN.loc[:,[\"uprn\", \"gridgb1e\", \"gridgb1n\", \"pcds\"]]\n",
    "\n",
    "All_Maps['UDPRN'] = gpd.GeoDataFrame(UDPRN, geometry=gpd.points_from_xy(UDPRN.gridgb1e, UDPRN.gridgb1n), crs=Main_CRS)"
   ]
  },
  {
   "cell_type": "markdown",
   "metadata": {},
   "source": [
    "There is a lot of mapping data here. My computer isn't that powerful so we need to subset the data. I've chosen a list of points and the code below clips the data to squares around these points"
   ]
  },
  {
   "cell_type": "markdown",
   "metadata": {},
   "source": [
    "Functions for clipping and saving the maps"
   ]
  },
  {
   "cell_type": "code",
   "execution_count": null,
   "metadata": {},
   "outputs": [],
   "source": [
    "def MakePolygon(centre, sq_sz, inp_crs):\n",
    "    mnx = centre[0]-(sq_sz/2)\n",
    "    mny = centre[1]-(sq_sz/2)\n",
    "    mxx = centre[0]+(sq_sz/2)\n",
    "    mxy = centre[1]+(sq_sz/2)\n",
    "    polygon =Polygon([(mnx, mny), (mnx,mxy), (mxx,mxy), (mxx,mny), (mnx, mny)])\n",
    "    poly_gdf = gpd.GeoDataFrame([1], geometry=[polygon], crs=inp_crs)\n",
    "    return poly_gdf"
   ]
  },
  {
   "cell_type": "code",
   "execution_count": null,
   "metadata": {},
   "outputs": [],
   "source": [
    "def save_obj(name , obj, extra=\"\"):\n",
    "    with open(root_path + 'WorkingData/' + extra + name + '.pkl', 'wb+') as f:\n",
    "        pickle.dump(obj, f, pickle.HIGHEST_PROTOCOL)"
   ]
  },
  {
   "cell_type": "code",
   "execution_count": null,
   "metadata": {},
   "outputs": [],
   "source": [
    "def load_obj(name ):\n",
    "    with open(root_path + 'WorkingData/' + name + '.pkl', 'rb') as f:\n",
    "        return pickle.load(f)"
   ]
  },
  {
   "cell_type": "code",
   "execution_count": null,
   "metadata": {},
   "outputs": [],
   "source": [
    "def ClipAndSave(name, centre, sq_sz, crs, extra):\n",
    "    print(name)\n",
    "    poly = MakePolygon(centre, sq_sz, crs)\n",
    "    maps = dict((k, gpd.clip(v, poly)) for k, v in All_Maps.items())\n",
    "    save_obj(name , maps, extra)\n",
    "    return maps"
   ]
  },
  {
   "cell_type": "markdown",
   "metadata": {},
   "source": [
    "Clip and save the maps for specific locations. Save at 5km^2"
   ]
  },
  {
   "cell_type": "code",
   "execution_count": null,
   "metadata": {},
   "outputs": [],
   "source": [
    "save_obj('All_Maps' , All_Maps)"
   ]
  },
  {
   "cell_type": "code",
   "execution_count": null,
   "metadata": {},
   "outputs": [],
   "source": [
    "KeyLocations = {'Grasmere': [334692 , 506545],\n",
    "                'South_London' : [535493, 171250],\n",
    "                'Loch_Lomond' : [238450 , 690986],\n",
    "                'Furness' : [326877 , 474372],\n",
    "                'Croydon' : [532621 , 165313],\n",
    "                'StPauls' : [532052 , 181145],\n",
    "                'M25' : [503078 , 178200],\n",
    "                'M4_junct' : [519377 , 178360],\n",
    "                'M6_Junctions' : [357659 , 425462],\n",
    "                'Kendal': [353086 , 492882],\n",
    "                'Milford Haven': [190649 , 205747],\n",
    "                'Birmingham':[409295 , 290319],\n",
    "                'Euston':[529947 , 182697],\n",
    "                'Southampton':[441934 , 111013],\n",
    "                'Windermere': [341217 , 498029],\n",
    "                'AvonMouth': [351730 , 178243]}"
   ]
  },
  {
   "cell_type": "code",
   "execution_count": null,
   "metadata": {},
   "outputs": [],
   "source": [
    "ClippedMaps_5k = dict((k, ClipAndSave(k, v, 5000, Main_CRS, \"Clipped5k_\")) for k, v in KeyLocations.items())\n",
    "save_obj('ClippedMaps_5k' , ClippedMaps_5k)"
   ]
  }
 ],
 "metadata": {
  "kernelspec": {
   "display_name": "Python 3 (ipykernel)",
   "language": "python",
   "name": "python3"
  },
  "language_info": {
   "codemirror_mode": {
    "name": "ipython",
    "version": 3
   },
   "file_extension": ".py",
   "mimetype": "text/x-python",
   "name": "python",
   "nbconvert_exporter": "python",
   "pygments_lexer": "ipython3",
   "version": "3.9.7"
  }
 },
 "nbformat": 4,
 "nbformat_minor": 4
}
